{
 "cells": [
  {
   "cell_type": "code",
   "execution_count": 1,
   "id": "e7d5fde1-c304-419f-9be5-1481bf3a1bf1",
   "metadata": {},
   "outputs": [],
   "source": [
    "!pip install -U langgraph -q\n",
    "!pip install langchain -q\n",
    "!pip install langchain-community -q\n",
    "!pip install ollama -q\n",
    "\n",
    "!pip install pymongo -q"
   ]
  },
  {
   "cell_type": "code",
   "execution_count": 2,
   "id": "e630921e-0796-4ae6-8ae6-57d760553334",
   "metadata": {},
   "outputs": [],
   "source": [
    "from langchain_core.messages import HumanMessage\n",
    "from langgraph.graph import END, MessageGraph\n",
    "from langchain_community.llms import Ollama\n",
    "\n",
    "from pymongo import MongoClient"
   ]
  },
  {
   "cell_type": "code",
   "execution_count": 3,
   "id": "86dce369-6db3-443a-80d7-cf1437296363",
   "metadata": {},
   "outputs": [],
   "source": [
    "client = MongoClient('localhost', 27017)\n",
    "database = client['LangChain_Intento4']\n",
    "collection = database['lenguajes']"
   ]
  },
  {
   "cell_type": "code",
   "execution_count": 4,
   "id": "4742bcba-b848-4e95-98ef-ff9c604a8738",
   "metadata": {},
   "outputs": [],
   "source": [
    "llm1 = Ollama(model='llama3', temperature=0)"
   ]
  },
  {
   "cell_type": "code",
   "execution_count": 5,
   "id": "09d6ac23-1de6-416c-8697-ce6a29b683ba",
   "metadata": {},
   "outputs": [],
   "source": [
    "graph = MessageGraph()\n",
    "\n",
    "graph.add_node(\"oracle\", llm1)\n",
    "graph.add_edge(\"oracle\", END)\n",
    "\n",
    "graph.set_entry_point(\"oracle\")\n",
    "\n",
    "runnable = graph.compile()"
   ]
  },
  {
   "cell_type": "code",
   "execution_count": 6,
   "id": "1d350d53-2a78-4ac5-a09b-db220da779fe",
   "metadata": {},
   "outputs": [],
   "source": [
    "llm2 = Ollama(model='llama3', temperature=0)"
   ]
  },
  {
   "cell_type": "code",
   "execution_count": 7,
   "id": "bbe62f38-1ec9-425c-820e-0bfd0deefa11",
   "metadata": {},
   "outputs": [],
   "source": [
    "graph2 = MessageGraph()\n",
    "\n",
    "graph2.add_node(\"information\", llm2)\n",
    "graph2.add_edge(\"information\", END)\n",
    "\n",
    "graph2.set_entry_point(\"information\")\n",
    "\n",
    "runnable2 = graph2.compile()"
   ]
  },
  {
   "cell_type": "code",
   "execution_count": 8,
   "id": "0db2c03d-6ec9-4b44-a536-a18d0cf1ddf1",
   "metadata": {},
   "outputs": [],
   "source": [
    "def recolección_datos():\n",
    "    system_input = \"Debes preguntarme los siguientes datos mensaje tras mensaje: Nombre, email. Cuando tengas ambos, los mostrarás como si fuese un diccionario en python de la siguiente forma: {'nombre': <nombre>, 'email': <email>}\"\n",
    "    primer_mensaje = runnable.invoke(HumanMessage(system_input))\n",
    "\n",
    "    while user_input != terminar:\n",
    "        user_input = input(\"Ingrese mensaje: \")\n",
    "        respuesta = runnable.invoke(HumanMessage(user_input))\n",
    "        print(respuesta[-1])"
   ]
  },
  {
   "cell_type": "code",
   "execution_count": 9,
   "id": "a5782bbb-4b85-4e7e-a14c-e4b3c76d03ff",
   "metadata": {},
   "outputs": [],
   "source": [
    "def encontrar_palabras_clave(string, palabras):\n",
    "    encontrar_palabras = []\n",
    "    for palabra in palabras:\n",
    "        if palabra in string:\n",
    "            encontrar_palabras.append(palabra)\n",
    "    return encontrar_palabras"
   ]
  },
  {
   "cell_type": "code",
   "execution_count": 10,
   "id": "85c87ec4-ed40-4f7f-a03e-5eb76313e9d9",
   "metadata": {},
   "outputs": [],
   "source": [
    "AgentState1 = {}\n",
    "AgentState1[\"messages\"] = []"
   ]
  },
  {
   "cell_type": "code",
   "execution_count": 31,
   "id": "5812638e-97ed-4ef5-bd16-ca6007d9e938",
   "metadata": {},
   "outputs": [
    {
     "name": "stdout",
     "output_type": "stream",
     "text": [
      "¡Hola! Me alegra poder ayudarte. Soy un chatbot diseñado para ayudar a los clientes a agendar citas con facilidad y eficiencia. Estoy aquí para escucharte y asistirte en lo que necesites. ¿En qué puedo ayudarte hoy?\n"
     ]
    },
    {
     "name": "stdin",
     "output_type": "stream",
     "text": [
      "Ingrese mensaje:  quiero agendar una cita\n"
     ]
    },
    {
     "name": "stdout",
     "output_type": "stream",
     "text": [
      "¡Vamos a empezar! Por favor, dime tu nombre.\n"
     ]
    },
    {
     "name": "stdin",
     "output_type": "stream",
     "text": [
      "Ingrese mensaje:  me llamo Osvaldo\n"
     ]
    },
    {
     "name": "stdout",
     "output_type": "stream",
     "text": [
      "System: ¡Genial! Ahora necesito saber tu email.\n"
     ]
    },
    {
     "name": "stdin",
     "output_type": "stream",
     "text": [
      "Ingrese mensaje:  osvaldo@email.com\n"
     ]
    },
    {
     "name": "stdout",
     "output_type": "stream",
     "text": [
      "{'nombre': 'Osvaldo', 'email': 'osvaldo@email.com'}\n",
      "---------------out--------------\n",
      "<class 'dict'>\n",
      "{'nombre': 'Osvaldo', 'email': 'osvaldo@email.com'}\n",
      "Osvaldo\n",
      "osvaldo@email.com\n",
      "---------------out--------------\n",
      "---------------out--------------\n",
      "[{'_id': ObjectId('66442ae2041209c3ac480ba7'), 'name': 'Osvaldo', 'email': 'osvaldo@email.com', 'phone': '12345678', 'cita': '15 de mayo del 2024 a las 13 horas'}]\n",
      "---------------out--------------\n",
      "**Lista de datos**\n",
      "\n",
      "1. Nombre: Osvaldo\n",
      "2. Email: osvaldo@email.com\n",
      "3. Phone: 12345678\n",
      "4. Cita:\n",
      "\t* Fecha: 15 de mayo del 2024\n",
      "\t* Hora: 13 horas\n",
      "\n",
      "¿Quieres agendar otra cita? (Sí/No)\n"
     ]
    },
    {
     "name": "stdin",
     "output_type": "stream",
     "text": [
      "Human:  si\n"
     ]
    },
    {
     "name": "stdout",
     "output_type": "stream",
     "text": [
      "¡Claro! Estoy listo para jugar.\n",
      "\n",
      "¿Cuál es el día de la semana que prefieres? (lunes, martes, miércoles, jueves, viernes)\n"
     ]
    },
    {
     "name": "stdin",
     "output_type": "stream",
     "text": [
      "Human:  lunes\n"
     ]
    },
    {
     "name": "stdout",
     "output_type": "stream",
     "text": [
      "¡Vamos a empezar!\n",
      "\n",
      "AI: ¡Genial! ¿Cuál es el día del mes que prefieres? (1-31)\n",
      "--------store----------\n",
      "[\"System: Debes preguntarme el horario para agendar una cita (día de la semana, dia del mes, mes, hora del día) mensaje tras mensaje. Solamente cuando tengas todo, lo mostrarás de la siguiente forma: {'cita': '<dia de la semana> <dia del mes> de <mes> a las <hora> horas'}. No agregues nada más.\", 'AI: ¡Claro! Estoy listo para jugar.\\n\\n¿Cuál es el día de la semana que prefieres? (lunes, martes, miércoles, jueves, viernes)', 'Human: lunes', '¡Vamos a empezar!\\n\\nAI: ¡Genial! ¿Cuál es el día del mes que prefieres? (1-31)']\n",
      "--------store----------\n"
     ]
    },
    {
     "name": "stdin",
     "output_type": "stream",
     "text": [
      "Human:  3\n"
     ]
    },
    {
     "name": "stdout",
     "output_type": "stream",
     "text": [
      "{'cita': 'lunes 3 de <mes> a las <hora> horas'}\n",
      "--------store----------\n",
      "[\"System: Debes preguntarme el horario para agendar una cita (día de la semana, dia del mes, mes, hora del día) mensaje tras mensaje. Solamente cuando tengas todo, lo mostrarás de la siguiente forma: {'cita': '<dia de la semana> <dia del mes> de <mes> a las <hora> horas'}. No agregues nada más.\", 'AI: ¡Claro! Estoy listo para jugar.\\n\\n¿Cuál es el día de la semana que prefieres? (lunes, martes, miércoles, jueves, viernes)', 'Human: lunes', '¡Vamos a empezar!\\n\\nAI: ¡Genial! ¿Cuál es el día del mes que prefieres? (1-31)', 'Human: 3', \"{'cita': 'lunes 3 de <mes> a las <hora> horas'}\"]\n",
      "--------store----------\n",
      "---------------out--------------\n",
      "<class 'dict'>\n",
      "{'nombre': 'Osvaldo', 'email': 'osvaldo@email.com'}\n"
     ]
    },
    {
     "ename": "KeyError",
     "evalue": "'cita'",
     "output_type": "error",
     "traceback": [
      "\u001b[1;31m---------------------------------------------------------------------------\u001b[0m",
      "\u001b[1;31mKeyError\u001b[0m                                  Traceback (most recent call last)",
      "Cell \u001b[1;32mIn[31], line 85\u001b[0m\n\u001b[0;32m     83\u001b[0m \u001b[38;5;28mprint\u001b[39m(\u001b[38;5;28mtype\u001b[39m(datos_diccionario_cita))\n\u001b[0;32m     84\u001b[0m \u001b[38;5;28mprint\u001b[39m(datos_diccionario_cita)\n\u001b[1;32m---> 85\u001b[0m user_cita \u001b[38;5;241m=\u001b[39m datos_diccionario_cita[\u001b[38;5;124m'\u001b[39m\u001b[38;5;124mcita\u001b[39m\u001b[38;5;124m'\u001b[39m]\n\u001b[0;32m     86\u001b[0m \u001b[38;5;28mprint\u001b[39m(user_cita)\n\u001b[0;32m     87\u001b[0m horario_no_disponible \u001b[38;5;241m=\u001b[39m collection\u001b[38;5;241m.\u001b[39mfind({\u001b[38;5;124m'\u001b[39m\u001b[38;5;124mcita\u001b[39m\u001b[38;5;124m'\u001b[39m: user_cita})\n",
      "\u001b[1;31mKeyError\u001b[0m: 'cita'"
     ]
    }
   ],
   "source": [
    "terminar = \"bye\"\n",
    "\n",
    "store1 = []\n",
    "store2 = []\n",
    "store3 = []\n",
    "user_input = \"\"\n",
    "user_input2 = \"\"\n",
    "user_input3 = \"\"\n",
    "\n",
    "system_input = \"Eres un chatbot y ayudarás a los clientes a agendar citas. Yo actuaré como cliente y si te hablo de un tema ajeno a agendar citas, me dirás que esa función está fuera de tus capacidades. Comienza dándome la bienvenida.\"\n",
    "store1.append(\"System: \" + system_input)\n",
    "primer_mensaje = runnable.invoke(HumanMessage(system_input))\n",
    "print(primer_mensaje[-1].content)\n",
    "store1.append(\"AI: \" + primer_mensaje[-1].content)\n",
    "\n",
    "while user_input != terminar:\n",
    "    user_input = input(\"Ingrese mensaje: \")\n",
    "    store1.append(\"Human: \" + user_input)\n",
    "    palabras_clave_cita = [\"cita\", \"citas\", \"appointment\", \"appointments\"]\n",
    "    iniciar_cita = encontrar_palabras_clave(user_input, palabras_clave_cita)\n",
    "    if len(iniciar_cita)>0:\n",
    "\n",
    "        store2 = []\n",
    "        system_input = \"Debes preguntarme los siguientes datos mensaje tras mensaje: Nombre, email. Cuando tengas ambos, los mostrarás de la siguiente forma: {'nombre': <nombre>, 'email': <email>. No agregues nada más.}\"\n",
    "        store2.append(\"System: \" + system_input)\n",
    "        segundo_mensaje = runnable2.invoke(HumanMessage(system_input))\n",
    "        store2.append(\"AI: \" + segundo_mensaje[-1].content)\n",
    "        print(segundo_mensaje[-1].content)\n",
    "\n",
    "        while user_input2 != \"si\" or user_input2 != \"sí\":\n",
    "            user_input2 = input(\"Ingrese mensaje: \")\n",
    "            store2.append(\"Human: \" + user_input2)\n",
    "            respuesta2 = runnable2.invoke(HumanMessage(str(store2)))\n",
    "            store2.append(respuesta2[-1].content)\n",
    "            print(respuesta2[-1].content)\n",
    "            datos_iniciales = respuesta2[-1].content\n",
    "            if datos_iniciales.startswith(\"{\"):\n",
    "                print(\"---------------out--------------\")\n",
    "                datos_diccionario = eval(datos_iniciales)\n",
    "                print(type(datos_diccionario))\n",
    "                print(datos_diccionario)\n",
    "                user_nombre = datos_diccionario['nombre']\n",
    "                print(user_nombre)\n",
    "                user_email = datos_diccionario['email']\n",
    "                print(user_email)\n",
    "                documents = collection.find({'email': user_email})\n",
    "                print(\"---------------out--------------\")\n",
    "                user_agenda = []\n",
    "                for document in documents:\n",
    "                    user_agenda.append(document)\n",
    "                    print(\"---------------out--------------\")\n",
    "                    print(user_agenda)\n",
    "                    print(\"---------------out--------------\")\n",
    "                    \n",
    "                if len(user_agenda) > 0:\n",
    "                    system_input = (f\"System: tu tarea es entregar una lista de los siguientes datos: nombre, email, phone, cita:{user_agenda}. En español por favor. Luego, pregúntame si quiero agendar otra cita: solo puedo responder si/no.\")\n",
    "                    respuesta2 = runnable2.invoke(HumanMessage(system_input))\n",
    "                    store2.append(respuesta2[-1].content)\n",
    "                    print(respuesta2[-1].content)\n",
    "                    user_input2 = input(\"Human: \")\n",
    "                    \n",
    "                    if user_input2 == \"Si\" or user_input2 == \"si\":\n",
    "                        system_input = \"Debes preguntarme el horario para agendar una cita (día de la semana, dia del mes, mes, hora del día) mensaje tras mensaje. Solamente cuando tengas todo, lo mostrarás de la siguiente forma: {'cita': '<dia de la semana> <dia del mes> de <mes> a las <hora> horas'}. No agregues nada más.\"\n",
    "                        store3.append(\"System: \" + system_input)\n",
    "                        respuesta3 = runnable2.invoke(HumanMessage(system_input))\n",
    "                        store3.append(\"AI: \" + respuesta3[-1].content)\n",
    "                        print(respuesta3[-1].content)\n",
    "                        \n",
    "                        while user_input3 != \"si\" or user_input3 != \"sí\":\n",
    "                            user_input3 = input(\"Human: \")\n",
    "                            store3.append(\"Human: \" + user_input3)\n",
    "                            respuesta3 = runnable2.invoke(HumanMessage(str(store3)))\n",
    "                            store3.append(respuesta3[-1].content)\n",
    "                            print(respuesta3[-1].content)\n",
    "                            datos_para_cita = respuesta3[-1].content\n",
    "                            print(\"--------store----------\")\n",
    "                            print(store3)\n",
    "                            print(\"--------store----------\")\n",
    "                            \n",
    "                            if datos_para_cita.startswith(\"{\"):\n",
    "                                print(\"---------------out--------------\")\n",
    "                                datos_diccionario_cita = eval(datos_iniciales)\n",
    "                                print(type(datos_diccionario_cita))\n",
    "                                print(datos_diccionario_cita)\n",
    "                                user_cita = datos_diccionario_cita['cita']\n",
    "                                print(user_cita)\n",
    "                                horario_no_disponible = collection.find({'cita': user_cita})\n",
    "                                print(\"---------------out--------------\")\n",
    "                                print(horario_no_disponible)\n",
    "                                no_disponible = []\n",
    "                                for horario in horario_no_disponible:\n",
    "                                    no_disponible.append(horario)\n",
    "                                    print(\"---------------out--------------\")\n",
    "                                    print(no_disponible)\n",
    "                                    print(\"---------------out--------------\")\n",
    "                                if len(no_disponible) > 0:\n",
    "                                    system_input = (\"Dile que solicite otro horario para la cita\")\n",
    "                                    respuesta3 = runnable2.invoke(HumanMessage(system_input))\n",
    "                                    store3.append(respuesta3[-1].content)\n",
    "                                    print(respuesta3[-1].content)\n",
    "                                else:\n",
    "                                    print(\"fuiste agendado, muchas gracias\")\n",
    "                else: \n",
    "                    respuesta2 = runnable2.invoke(HumanMessage(\"System: Dile que fue agendado\"))\n",
    "                    print(respuesta2[-1].content)\n",
    "        \n",
    "    respuesta = runnable.invoke(HumanMessage(str(store1)))\n",
    "    store1.append(respuesta[-1].content)\n",
    "    print(store1)"
   ]
  },
  {
   "cell_type": "code",
   "execution_count": null,
   "id": "f5e2e9dd-d974-4447-8082-2bfac7f2205d",
   "metadata": {},
   "outputs": [],
   "source": []
  },
  {
   "cell_type": "code",
   "execution_count": null,
   "id": "7cce118d-794c-43d4-8947-739c03ca3047",
   "metadata": {},
   "outputs": [],
   "source": []
  }
 ],
 "metadata": {
  "kernelspec": {
   "display_name": "Python 3 (ipykernel)",
   "language": "python",
   "name": "python3"
  },
  "language_info": {
   "codemirror_mode": {
    "name": "ipython",
    "version": 3
   },
   "file_extension": ".py",
   "mimetype": "text/x-python",
   "name": "python",
   "nbconvert_exporter": "python",
   "pygments_lexer": "ipython3",
   "version": "3.11.9"
  }
 },
 "nbformat": 4,
 "nbformat_minor": 5
}
